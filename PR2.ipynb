{
 "cells": [
  {
   "cell_type": "code",
   "execution_count": 6,
   "id": "e5f24d11",
   "metadata": {},
   "outputs": [
    {
     "name": "stdout",
     "output_type": "stream",
     "text": [
      "Defaulting to user installation because normal site-packages is not writeable\n",
      "Requirement already satisfied: numpy in c:\\programdata\\anaconda3\\lib\\site-packages (1.21.5)\n"
     ]
    }
   ],
   "source": [
    "!pip install numpy\n"
   ]
  },
  {
   "cell_type": "code",
   "execution_count": null,
   "id": "2876cb52",
   "metadata": {},
   "outputs": [],
   "source": []
  },
  {
   "cell_type": "code",
   "execution_count": 7,
   "id": "80f70775",
   "metadata": {},
   "outputs": [
    {
     "name": "stdout",
     "output_type": "stream",
     "text": [
      "Optimal Value Function:\n",
      "[ 9.70011846 10.59293426 12.48985383 10.90933997 11.82325486]\n"
     ]
    }
   ],
   "source": [
    "import numpy as np\n",
    "class MDP:\n",
    "    def __init__(self, num_states, num_actions, gamma=0.9, epsilon=1e-6):\n",
    "        self.num_states = num_states\n",
    "        self.num_actions = num_actions\n",
    "        self.gamma = gamma  # Discount factor\n",
    "        self.epsilon = epsilon  # Convergence threshold\n",
    "        \n",
    "        self.P = np.random.rand(num_states, num_actions, num_states)\n",
    "        self.P /= np.sum(self.P, axis=2, keepdims=True)  # Normalize to ensure valid probabilities\n",
    "        \n",
    "        self.R = np.random.randn(num_states, num_actions)\n",
    "        \n",
    "    def get_reward(self, s, a):\n",
    "        return self.R[s, a]\n",
    "\n",
    "    def get_transition_prob(self, s, a, s_next):\n",
    "        return self.P[s, a, s_next]\n",
    "\n",
    "    def get_all_possible_actions(self, s):\n",
    "        return range(self.num_actions)\n",
    "        \n",
    "# Value Iteration\n",
    "def value_iteration(mdp):\n",
    "    # Initialize value function with zeros\n",
    "    V = np.zeros(mdp.num_states)\n",
    "    \n",
    "    while True:\n",
    "        delta = 0\n",
    "        V_new = np.copy(V)\n",
    "        \n",
    "        for s in range(mdp.num_states):\n",
    "            action_values = []\n",
    "            for a in range(mdp.num_actions):\n",
    "                value = 0\n",
    "                for s_next in range(mdp.num_states):\n",
    "                    prob = mdp.get_transition_prob(s, a, s_next)\n",
    "                    reward = mdp.get_reward(s, a)\n",
    "                    value += prob * (reward + mdp.gamma * V[s_next])\n",
    "                action_values.append(value)\n",
    "            \n",
    "            V_new[s] = max(action_values)\n",
    "        \n",
    "        delta = np.max(np.abs(V_new - V))\n",
    "        \n",
    "        if delta < mdp.epsilon:\n",
    "            break\n",
    "        \n",
    "        V = V_new\n",
    "    \n",
    "    return V\n",
    "\n",
    "num_states = 5  # Number of states\n",
    "num_actions = 3  # Number of actions\n",
    "mdp = MDP(num_states, num_actions)\n",
    "\n",
    "optimal_value_function = value_iteration(mdp)\n",
    "\n",
    "print(\"Optimal Value Function:\")\n",
    "print(optimal_value_function)\n"
   ]
  },
  {
   "cell_type": "code",
   "execution_count": null,
   "id": "3ab61a03",
   "metadata": {},
   "outputs": [],
   "source": []
  }
 ],
 "metadata": {
  "kernelspec": {
   "display_name": "Python 3 (ipykernel)",
   "language": "python",
   "name": "python3"
  },
  "language_info": {
   "codemirror_mode": {
    "name": "ipython",
    "version": 3
   },
   "file_extension": ".py",
   "mimetype": "text/x-python",
   "name": "python",
   "nbconvert_exporter": "python",
   "pygments_lexer": "ipython3",
   "version": "3.9.12"
  }
 },
 "nbformat": 4,
 "nbformat_minor": 5
}
