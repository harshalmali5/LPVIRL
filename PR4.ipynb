{
 "cells": [
  {
   "cell_type": "code",
   "execution_count": 6,
   "id": "edbaff3b",
   "metadata": {},
   "outputs": [
    {
     "name": "stdout",
     "output_type": "stream",
     "text": [
      "Defaulting to user installation because normal site-packages is not writeable\n",
      "Requirement already satisfied: numpy in c:\\programdata\\anaconda3\\lib\\site-packages (1.21.5)\n"
     ]
    }
   ],
   "source": [
    "!pip install numpy\n"
   ]
  },
  {
   "cell_type": "code",
   "execution_count": null,
   "id": "d66f0c29",
   "metadata": {},
   "outputs": [],
   "source": []
  },
  {
   "cell_type": "code",
   "execution_count": 14,
   "id": "135cfe15",
   "metadata": {},
   "outputs": [
    {
     "name": "stdout",
     "output_type": "stream",
     "text": [
      "Average reward: 0.713\n",
      "Fraction of optimal actions: 0.586\n"
     ]
    },
    {
     "data": {
      "image/png": "[encoded data removed]",
      "text/plain": [
       "<Figure size 432x288 with 1 Axes>"
      ]
     },
     "metadata": {
      "needs_background": "light"
     },
     "output_type": "display_data"
    },
    {
     "name": "stdout",
     "output_type": "stream",
     "text": [
      "True action values: [0.39316545 0.37515835 0.61441173 0.3913701  0.42844999 0.87043427\n",
      " 0.30044322 0.61558215 0.40637455 0.4218427 ]\n"
     ]
    }
   ],
   "source": [
    "import numpy as np\n",
    "import matplotlib.pyplot as plt\n",
    "\n",
    "class BinaryBandit:\n",
    "    def __init__(self, k, true_action_values):\n",
    "       \n",
    "        self.k = k\n",
    "        self.true_action_values = true_action_values\n",
    "        self.best_action = np.argmax(true_action_values)\n",
    "\n",
    "    def step(self, action):\n",
    "       \n",
    "        reward = 1 if np.random.rand() < self.true_action_values[action] else 0\n",
    "        return reward\n",
    "\n",
    "# UCB Algorithm\n",
    "class UCB:\n",
    "    def __init__(self, bandit):\n",
    "       \n",
    "        self.bandit = bandit\n",
    "        self.action_values = np.zeros(bandit.k)  # Estimated action values\n",
    "        self.action_counts = np.zeros(bandit.k)  # Number of times each action was taken\n",
    "        self.total_steps = 0\n",
    "\n",
    "    def select_action(self):\n",
    "       \n",
    "        if self.total_steps < self.bandit.k:\n",
    "            return self.total_steps\n",
    "        else:\n",
    "            ucb_values = self.action_values + np.sqrt(2 * np.log(self.total_steps) / (self.action_counts + 1e-5))\n",
    "            return np.argmax(ucb_values)\n",
    "\n",
    "    def update_action_value(self, action, reward):\n",
    "       \n",
    "        self.action_counts[action] += 1\n",
    "        self.action_values[action] += (reward - self.action_values[action]) / self.action_counts[action]\n",
    "        self.total_steps += 1\n",
    "\n",
    "# Run the simulation\n",
    "def run_simulation(k=10, num_steps=1000):\n",
    "    true_action_values = np.random.uniform(0, 1, k)\n",
    "    \n",
    "    bandit = BinaryBandit(k, true_action_values)\n",
    "    agent = UCB(bandit)\n",
    "    \n",
    "    rewards = np.zeros(num_steps)\n",
    "    optimal_action_counts = np.zeros(num_steps)\n",
    "    \n",
    "    for t in range(num_steps):\n",
    "        action = agent.select_action()\n",
    "        reward = bandit.step(action)\n",
    "        agent.update_action_value(action, reward)\n",
    "        \n",
    "        rewards[t] = reward\n",
    "        optimal_action_counts[t] = (action == bandit.best_action)\n",
    "    \n",
    "    avg_reward = np.mean(rewards)\n",
    "    optimal_action_fraction = np.mean(optimal_action_counts)\n",
    "    \n",
    "    return rewards, avg_reward, optimal_action_fraction, true_action_values\n",
    "\n",
    "k = 10  # Number of arms\n",
    "num_steps = 1000  # Number of steps in the simulation\n",
    "\n",
    "rewards, avg_reward, optimal_action_fraction, true_action_values = run_simulation(k, num_steps)\n",
    "\n",
    "print(f\"Average reward: {avg_reward}\")\n",
    "print(f\"Fraction of optimal actions: {optimal_action_fraction}\")\n",
    "\n",
    "plt.plot(np.cumsum(rewards) / np.arange(1, num_steps + 1))\n",
    "plt.xlabel('Steps')\n",
    "plt.ylabel('Average reward')\n",
    "plt.title('Average Reward vs. Steps')\n",
    "plt.show()\n",
    "\n",
    "# Print the true action values\n",
    "print(f\"True action values: {true_action_values}\")\n"
   ]
  },
  {
   "cell_type": "code",
   "execution_count": null,
   "id": "fb6041c9",
   "metadata": {},
   "outputs": [],
   "source": []
  },
  {
   "cell_type": "code",
   "execution_count": null,
   "id": "484443c0",
   "metadata": {},
   "outputs": [],
   "source": []
  }
 ],
 "metadata": {
  "kernelspec": {
   "display_name": "Python 3 (ipykernel)",
   "language": "python",
   "name": "python3"
  },
  "language_info": {
   "codemirror_mode": {
    "name": "ipython",
    "version": 3
   },
   "file_extension": ".py",
   "mimetype": "text/x-python",
   "name": "python",
   "nbconvert_exporter": "python",
   "pygments_lexer": "ipython3",
   "version": "3.9.12"
  }
 },
 "nbformat": 4,
 "nbformat_minor": 5
}
